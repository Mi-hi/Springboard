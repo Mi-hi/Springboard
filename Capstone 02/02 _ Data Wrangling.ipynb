{
 "cells": [
  {
   "cell_type": "markdown",
   "id": "c8fb11ac-44fc-4ecd-9395-aaf4f76d6a8f",
   "metadata": {},
   "source": [
    "![Description](card.jpeg)\n"
   ]
  },
  {
   "cell_type": "markdown",
   "id": "e7e33593",
   "metadata": {
    "papermill": {
     "duration": 0.013286,
     "end_time": "2024-05-27T20:59:54.043350",
     "exception": false,
     "start_time": "2024-05-27T20:59:54.030064",
     "status": "completed"
    },
    "tags": []
   },
   "source": [
    "<div style=\"background-color:#000000; padding: 20px; border-radius: 5px; box-shadow: 0 1px 3px 0 rgba(0, 0, 0, 0.1); border-left: 4px solid #007acc;\">\n",
    "    <h1 style=\"font-size:22px; font-family:'Helvetica Neue', Helvetica, Arial, sans-serif; color:#ffffff;\"><b>About Dataset</b></h1>\n",
    "    <p style=\"font-size:16px; font-family:'Helvetica Neue', Helvetica, Arial, sans-serif; line-height: 1.5em; text-indent: 20px; color:#ffffff; font-style: italic;\">\n",
    "        This Credit Card Eligibility Dataset encompasses various factors that determine or influence a person's eligibility for a credit card. It includes demographic variables such as gender and employment status, family size, total income, education, occupation, and more. These elements collectively capture the complex nature of credit card assessments and are essential for evaluating creditworthiness and eligibility.\n",
    "    </p>\n",
    "</div>"
   ]
  },
  {
   "cell_type": "markdown",
   "id": "8b125099",
   "metadata": {
    "papermill": {
     "duration": 0.014001,
     "end_time": "2024-05-27T20:59:54.070888",
     "exception": false,
     "start_time": "2024-05-27T20:59:54.056887",
     "status": "completed"
    },
    "tags": []
   },
   "source": [
    "| Column Name      | Description                                                                 |\n",
    "|------------------|-----------------------------------------------------------------------------|\n",
    "| ID               | An identifier for each individual (customer).                               |\n",
    "| Gender           | The gender of the individual.                                              |\n",
    "| Own_car          | A binary feature indicating whether the individual owns a car.              |\n",
    "| Own_property     | A binary feature indicating whether the individual owns a property.         |\n",
    "| Work_phone       | A binary feature indicating whether the individual has a work phone.        |\n",
    "| Phone            | A binary feature indicating whether the individual has a phone.             |\n",
    "| Email            | A binary feature indicating whether the individual has provided an email address. |\n",
    "| Unemployed       | A binary feature indicating whether the individual is unemployed.           |\n",
    "| Num_children     | The number of children the individual has.                                  |\n",
    "| Num_family       | The total number of family members.                                         |\n",
    "| Account_length   | The length of the individual's account with a bank or financial institution.|\n",
    "| Total_income     | The total income of the individual.                                         |\n",
    "| Age              | The age of the individual.                                                  |\n",
    "| Years_employed   | The number of years the individual has been employed.                       |\n",
    "| Income_type      | The type of income (e.g., employed, self-employed, etc.).                   |\n",
    "| Education_type   | The education level of the individual.                                      |\n",
    "| Family_status    | The family status of the individual.                                        |\n",
    "| Housing_type     | The type of housing the individual lives in.                                |\n",
    "| Occupation_type  | The type of occupation the individual is engaged in.                        |\n",
    "| Target           | The target variable for the classification task, indicating whether the individual is eligible for a credit card or not (e.g., Yes/No, 1/0). |\n"
   ]
  },
  {
   "cell_type": "markdown",
   "id": "957dff59",
   "metadata": {
    "papermill": {
     "duration": 0.013498,
     "end_time": "2024-05-27T20:59:54.098067",
     "exception": false,
     "start_time": "2024-05-27T20:59:54.084569",
     "status": "completed"
    },
    "tags": []
   },
   "source": [
    "<div style=\"background-color:#000000; padding: 20px; border-radius: 5px; box-shadow: 0 1px 3px 0 rgba(0, 0, 0, 0.1); border-left: 4px solid #007acc;\">\n",
    "    <h1 style=\"font-size:22px; font-family:'Helvetica Neue', Helvetica, Arial, sans-serif; color:#ffffff;\"><b>Aims and Objectives</b></h1>\n",
    "    <p style=\"font-size:16px; font-family:'Helvetica Neue', Helvetica, Arial, sans-serif; line-height: 1.5em; text-indent: 20px; color:#ffffff; font-style: italic;\">\n",
    "        The goal of this Credit Card Eligibility Dataset analysis is to investigate the factors influencing a person's eligibility for a credit card and to evaluate their creditworthiness.\n",
    "       \n",
    "    \n",
    "</div>\n"
   ]
  },
  {
   "cell_type": "markdown",
   "id": "0609edd4-26a2-4a96-a1b4-b3a119a9685f",
   "metadata": {
    "tags": []
   },
   "source": [
    "<p style=\"background-color: #000000; font-family: 'Courier New', Courier, monospace; font-size: 28px; text-align: center; color: #FFFFFF; padding: 10px; border-radius: 20px;\">\n",
    "    🔍📈 Data Wrangling\n",
    "</p>\n"
   ]
  },
  {
   "cell_type": "markdown",
   "id": "2afe3a49",
   "metadata": {
    "papermill": {
     "duration": 0.013595,
     "end_time": "2024-05-27T20:59:54.181886",
     "exception": false,
     "start_time": "2024-05-27T20:59:54.168291",
     "status": "completed"
    },
    "tags": []
   },
   "source": [
    "<p style=\"background-color: #000000; font-family: 'Courier New', Courier, monospace; font-size: 28px; text-align: center; color: #FFFFFF; padding: 10px; border-radius: 20px;\">\n",
    "    Import Libraries\n",
    "</p>\n"
   ]
  },
  {
   "cell_type": "code",
   "execution_count": 1,
   "id": "36c3a3f0",
   "metadata": {
    "execution": {
     "iopub.execute_input": "2024-05-27T20:59:54.212579Z",
     "iopub.status.busy": "2024-05-27T20:59:54.212027Z",
     "iopub.status.idle": "2024-05-27T21:00:13.070914Z",
     "shell.execute_reply": "2024-05-27T21:00:13.069504Z"
    },
    "papermill": {
     "duration": 18.877751,
     "end_time": "2024-05-27T21:00:13.073835",
     "exception": false,
     "start_time": "2024-05-27T20:59:54.196084",
     "status": "completed"
    },
    "tags": []
   },
   "outputs": [
    {
     "name": "stderr",
     "output_type": "stream",
     "text": [
      "2024-05-27 20:59:59.145032: E external/local_xla/xla/stream_executor/cuda/cuda_dnn.cc:9261] Unable to register cuDNN factory: Attempting to register factory for plugin cuDNN when one has already been registered\n",
      "2024-05-27 20:59:59.145265: E external/local_xla/xla/stream_executor/cuda/cuda_fft.cc:607] Unable to register cuFFT factory: Attempting to register factory for plugin cuFFT when one has already been registered\n",
      "2024-05-27 20:59:59.334095: E external/local_xla/xla/stream_executor/cuda/cuda_blas.cc:1515] Unable to register cuBLAS factory: Attempting to register factory for plugin cuBLAS when one has already been registered\n"
     ]
    }
   ],
   "source": [
    "# Import Libraries\n",
    "import pandas as pd\n",
    "import numpy as np \n",
    "import seaborn as sns \n",
    "import matplotlib.pyplot as plt\n",
    "import tensorflow as tf\n",
    "# Import Train Test split and Grid Search Cv\n",
    "from sklearn.model_selection import train_test_split, GridSearchCV\n",
    "# Import LabelEncoder, StandardScaler, PolynomialFeatures\n",
    "from sklearn.preprocessing import LabelEncoder, StandardScaler, PolynomialFeatures\n",
    "# Column Transformer\n",
    "from sklearn.compose import ColumnTransformer\n",
    "from sklearn.impute import SimpleImputer\n",
    "from sklearn.feature_selection import SelectKBest, mutual_info_classif\n",
    "from sklearn.ensemble import GradientBoostingClassifier\n",
    "from tensorflow.keras.models import Sequential\n",
    "from tensorflow.keras.layers import Dense, Dropout\n",
    "from sklearn.pipeline import Pipeline\n",
    "from sklearn.feature_selection import SelectFromModel\n",
    "from sklearn.metrics import accuracy_score, precision_score, recall_score, f1_score, confusion_matrix, classification_report\n",
    "# Remove warnings \n",
    "import warnings\n",
    "warnings.filterwarnings(\"ignore\")"
   ]
  },
  {
   "cell_type": "markdown",
   "id": "7e549cd4",
   "metadata": {
    "papermill": {
     "duration": 0.014253,
     "end_time": "2024-05-27T21:00:13.103228",
     "exception": false,
     "start_time": "2024-05-27T21:00:13.088975",
     "status": "completed"
    },
    "tags": []
   },
   "source": [
    "<p style=\"background-color: #000000; font-family: 'Courier New', Courier, monospace; font-size: 28px; text-align: center; color: #FFFFFF; padding: 10px; border-radius: 20px;\">\n",
    "    Dataset Overview\n",
    "</p>\n"
   ]
  },
  {
   "cell_type": "code",
   "execution_count": 2,
   "id": "95385edd",
   "metadata": {
    "_kg_hide-input": true,
    "_kg_hide-output": false,
    "execution": {
     "iopub.execute_input": "2024-05-27T21:00:13.136695Z",
     "iopub.status.busy": "2024-05-27T21:00:13.135515Z",
     "iopub.status.idle": "2024-05-27T21:00:13.419115Z",
     "shell.execute_reply": "2024-05-27T21:00:13.417074Z"
    },
    "papermill": {
     "duration": 0.303495,
     "end_time": "2024-05-27T21:00:13.422026",
     "exception": false,
     "start_time": "2024-05-27T21:00:13.118531",
     "status": "completed"
    },
    "tags": []
   },
   "outputs": [
    {
     "data": {
      "text/html": [
       "<hr style='border: 2px solid #174747;'>"
      ],
      "text/plain": [
       "<IPython.core.display.HTML object>"
      ]
     },
     "metadata": {},
     "output_type": "display_data"
    },
    {
     "data": {
      "text/html": [
       "<h2 style='color:#d35400; text-align:center;'><strong>📋 Top 5 Rows of the Dataset</strong></h2>"
      ],
      "text/plain": [
       "<IPython.core.display.HTML object>"
      ]
     },
     "metadata": {},
     "output_type": "display_data"
    },
    {
     "data": {
      "text/html": [
       "<hr style='border: 2px solid #174747;'>"
      ],
      "text/plain": [
       "<IPython.core.display.HTML object>"
      ]
     },
     "metadata": {},
     "output_type": "display_data"
    },
    {
     "data": {
      "text/html": [
       "\n",
       "    <style>\n",
       "        table {\n",
       "            margin: 0 auto;\n",
       "            border-collapse: collapse;\n",
       "            color: #333;\n",
       "        }\n",
       "        th, td {\n",
       "            padding: 8px;\n",
       "            text-align: left;\n",
       "        }\n",
       "        tr:nth-child(even) {background-color: #f2f2f2;}\n",
       "        tr:hover {background-color: #ddd;}\n",
       "    </style>\n",
       "    <table class=\"dataframe\">\n",
       "  <thead>\n",
       "    <tr style=\"text-align: right;\">\n",
       "      <th>ID</th>\n",
       "      <th>Gender</th>\n",
       "      <th>Own_car</th>\n",
       "      <th>Own_property</th>\n",
       "      <th>Work_phone</th>\n",
       "      <th>Phone</th>\n",
       "      <th>Email</th>\n",
       "      <th>Unemployed</th>\n",
       "      <th>Num_children</th>\n",
       "      <th>Num_family</th>\n",
       "      <th>Account_length</th>\n",
       "      <th>Total_income</th>\n",
       "      <th>Age</th>\n",
       "      <th>Years_employed</th>\n",
       "      <th>Income_type</th>\n",
       "      <th>Education_type</th>\n",
       "      <th>Family_status</th>\n",
       "      <th>Housing_type</th>\n",
       "      <th>Occupation_type</th>\n",
       "      <th>Target</th>\n",
       "    </tr>\n",
       "  </thead>\n",
       "  <tbody>\n",
       "    <tr>\n",
       "      <td>5008804</td>\n",
       "      <td>1</td>\n",
       "      <td>1</td>\n",
       "      <td>1</td>\n",
       "      <td>1</td>\n",
       "      <td>0</td>\n",
       "      <td>0</td>\n",
       "      <td>0</td>\n",
       "      <td>0</td>\n",
       "      <td>2</td>\n",
       "      <td>15</td>\n",
       "      <td>427500.0</td>\n",
       "      <td>32.868574</td>\n",
       "      <td>12.435574</td>\n",
       "      <td>Working</td>\n",
       "      <td>Higher education</td>\n",
       "      <td>Civil marriage</td>\n",
       "      <td>Rented apartment</td>\n",
       "      <td>Other</td>\n",
       "      <td>1</td>\n",
       "    </tr>\n",
       "    <tr>\n",
       "      <td>5008806</td>\n",
       "      <td>1</td>\n",
       "      <td>1</td>\n",
       "      <td>1</td>\n",
       "      <td>0</td>\n",
       "      <td>0</td>\n",
       "      <td>0</td>\n",
       "      <td>0</td>\n",
       "      <td>0</td>\n",
       "      <td>2</td>\n",
       "      <td>29</td>\n",
       "      <td>112500.0</td>\n",
       "      <td>58.793815</td>\n",
       "      <td>3.104787</td>\n",
       "      <td>Working</td>\n",
       "      <td>Secondary / secondary special</td>\n",
       "      <td>Married</td>\n",
       "      <td>House / apartment</td>\n",
       "      <td>Security staff</td>\n",
       "      <td>0</td>\n",
       "    </tr>\n",
       "    <tr>\n",
       "      <td>5008808</td>\n",
       "      <td>0</td>\n",
       "      <td>0</td>\n",
       "      <td>1</td>\n",
       "      <td>0</td>\n",
       "      <td>1</td>\n",
       "      <td>1</td>\n",
       "      <td>0</td>\n",
       "      <td>0</td>\n",
       "      <td>1</td>\n",
       "      <td>4</td>\n",
       "      <td>270000.0</td>\n",
       "      <td>52.321403</td>\n",
       "      <td>8.353354</td>\n",
       "      <td>Commercial associate</td>\n",
       "      <td>Secondary / secondary special</td>\n",
       "      <td>Single / not married</td>\n",
       "      <td>House / apartment</td>\n",
       "      <td>Sales staff</td>\n",
       "      <td>0</td>\n",
       "    </tr>\n",
       "    <tr>\n",
       "      <td>5008812</td>\n",
       "      <td>0</td>\n",
       "      <td>0</td>\n",
       "      <td>1</td>\n",
       "      <td>0</td>\n",
       "      <td>0</td>\n",
       "      <td>0</td>\n",
       "      <td>1</td>\n",
       "      <td>0</td>\n",
       "      <td>1</td>\n",
       "      <td>20</td>\n",
       "      <td>283500.0</td>\n",
       "      <td>61.504343</td>\n",
       "      <td>0.000000</td>\n",
       "      <td>Pensioner</td>\n",
       "      <td>Higher education</td>\n",
       "      <td>Separated</td>\n",
       "      <td>House / apartment</td>\n",
       "      <td>Other</td>\n",
       "      <td>0</td>\n",
       "    </tr>\n",
       "    <tr>\n",
       "      <td>5008815</td>\n",
       "      <td>1</td>\n",
       "      <td>1</td>\n",
       "      <td>1</td>\n",
       "      <td>1</td>\n",
       "      <td>1</td>\n",
       "      <td>1</td>\n",
       "      <td>0</td>\n",
       "      <td>0</td>\n",
       "      <td>2</td>\n",
       "      <td>5</td>\n",
       "      <td>270000.0</td>\n",
       "      <td>46.193967</td>\n",
       "      <td>2.105450</td>\n",
       "      <td>Working</td>\n",
       "      <td>Higher education</td>\n",
       "      <td>Married</td>\n",
       "      <td>House / apartment</td>\n",
       "      <td>Accountants</td>\n",
       "      <td>0</td>\n",
       "    </tr>\n",
       "  </tbody>\n",
       "</table>"
      ],
      "text/plain": [
       "<IPython.core.display.HTML object>"
      ]
     },
     "metadata": {},
     "output_type": "display_data"
    },
    {
     "data": {
      "text/html": [
       "<hr style='border: 2px solid #174747;'>"
      ],
      "text/plain": [
       "<IPython.core.display.HTML object>"
      ]
     },
     "metadata": {},
     "output_type": "display_data"
    },
    {
     "data": {
      "text/html": [
       "<h2 style='color:#d35400; text-align:center;'><strong>🔽 Bottom 5 Rows of the Dataset</strong></h2>"
      ],
      "text/plain": [
       "<IPython.core.display.HTML object>"
      ]
     },
     "metadata": {},
     "output_type": "display_data"
    },
    {
     "data": {
      "text/html": [
       "<hr style='border: 2px solid #174747;'>"
      ],
      "text/plain": [
       "<IPython.core.display.HTML object>"
      ]
     },
     "metadata": {},
     "output_type": "display_data"
    },
    {
     "data": {
      "text/html": [
       "\n",
       "    <style>\n",
       "        table {\n",
       "            margin: 0 auto;\n",
       "            border-collapse: collapse;\n",
       "            color: #333;\n",
       "        }\n",
       "        th, td {\n",
       "            padding: 8px;\n",
       "            text-align: left;\n",
       "        }\n",
       "        tr:nth-child(even) {background-color: #f2f2f2;}\n",
       "        tr:hover {background-color: #ddd;}\n",
       "    </style>\n",
       "    <table class=\"dataframe\">\n",
       "  <thead>\n",
       "    <tr style=\"text-align: right;\">\n",
       "      <th>ID</th>\n",
       "      <th>Gender</th>\n",
       "      <th>Own_car</th>\n",
       "      <th>Own_property</th>\n",
       "      <th>Work_phone</th>\n",
       "      <th>Phone</th>\n",
       "      <th>Email</th>\n",
       "      <th>Unemployed</th>\n",
       "      <th>Num_children</th>\n",
       "      <th>Num_family</th>\n",
       "      <th>Account_length</th>\n",
       "      <th>Total_income</th>\n",
       "      <th>Age</th>\n",
       "      <th>Years_employed</th>\n",
       "      <th>Income_type</th>\n",
       "      <th>Education_type</th>\n",
       "      <th>Family_status</th>\n",
       "      <th>Housing_type</th>\n",
       "      <th>Occupation_type</th>\n",
       "      <th>Target</th>\n",
       "    </tr>\n",
       "  </thead>\n",
       "  <tbody>\n",
       "    <tr>\n",
       "      <td>5148694</td>\n",
       "      <td>0</td>\n",
       "      <td>0</td>\n",
       "      <td>0</td>\n",
       "      <td>0</td>\n",
       "      <td>0</td>\n",
       "      <td>0</td>\n",
       "      <td>0</td>\n",
       "      <td>0</td>\n",
       "      <td>2</td>\n",
       "      <td>20</td>\n",
       "      <td>180000.0</td>\n",
       "      <td>56.400884</td>\n",
       "      <td>0.542106</td>\n",
       "      <td>Pensioner</td>\n",
       "      <td>Secondary / secondary special</td>\n",
       "      <td>Civil marriage</td>\n",
       "      <td>Municipal apartment</td>\n",
       "      <td>Laborers</td>\n",
       "      <td>1</td>\n",
       "    </tr>\n",
       "    <tr>\n",
       "      <td>5149055</td>\n",
       "      <td>0</td>\n",
       "      <td>0</td>\n",
       "      <td>1</td>\n",
       "      <td>1</td>\n",
       "      <td>1</td>\n",
       "      <td>0</td>\n",
       "      <td>0</td>\n",
       "      <td>0</td>\n",
       "      <td>2</td>\n",
       "      <td>19</td>\n",
       "      <td>112500.0</td>\n",
       "      <td>43.360233</td>\n",
       "      <td>7.375921</td>\n",
       "      <td>Commercial associate</td>\n",
       "      <td>Secondary / secondary special</td>\n",
       "      <td>Married</td>\n",
       "      <td>House / apartment</td>\n",
       "      <td>Other</td>\n",
       "      <td>1</td>\n",
       "    </tr>\n",
       "    <tr>\n",
       "      <td>5149729</td>\n",
       "      <td>1</td>\n",
       "      <td>1</td>\n",
       "      <td>1</td>\n",
       "      <td>0</td>\n",
       "      <td>0</td>\n",
       "      <td>0</td>\n",
       "      <td>0</td>\n",
       "      <td>0</td>\n",
       "      <td>2</td>\n",
       "      <td>21</td>\n",
       "      <td>90000.0</td>\n",
       "      <td>52.296762</td>\n",
       "      <td>4.711938</td>\n",
       "      <td>Working</td>\n",
       "      <td>Secondary / secondary special</td>\n",
       "      <td>Married</td>\n",
       "      <td>House / apartment</td>\n",
       "      <td>Other</td>\n",
       "      <td>1</td>\n",
       "    </tr>\n",
       "    <tr>\n",
       "      <td>5149838</td>\n",
       "      <td>0</td>\n",
       "      <td>0</td>\n",
       "      <td>1</td>\n",
       "      <td>0</td>\n",
       "      <td>1</td>\n",
       "      <td>1</td>\n",
       "      <td>0</td>\n",
       "      <td>0</td>\n",
       "      <td>2</td>\n",
       "      <td>32</td>\n",
       "      <td>157500.0</td>\n",
       "      <td>33.914454</td>\n",
       "      <td>3.627727</td>\n",
       "      <td>Pensioner</td>\n",
       "      <td>Higher education</td>\n",
       "      <td>Married</td>\n",
       "      <td>House / apartment</td>\n",
       "      <td>Medicine staff</td>\n",
       "      <td>1</td>\n",
       "    </tr>\n",
       "    <tr>\n",
       "      <td>5150337</td>\n",
       "      <td>1</td>\n",
       "      <td>0</td>\n",
       "      <td>1</td>\n",
       "      <td>0</td>\n",
       "      <td>0</td>\n",
       "      <td>0</td>\n",
       "      <td>0</td>\n",
       "      <td>0</td>\n",
       "      <td>1</td>\n",
       "      <td>13</td>\n",
       "      <td>112500.0</td>\n",
       "      <td>25.155890</td>\n",
       "      <td>3.266323</td>\n",
       "      <td>Working</td>\n",
       "      <td>Secondary / secondary special</td>\n",
       "      <td>Single / not married</td>\n",
       "      <td>Rented apartment</td>\n",
       "      <td>Laborers</td>\n",
       "      <td>1</td>\n",
       "    </tr>\n",
       "  </tbody>\n",
       "</table>"
      ],
      "text/plain": [
       "<IPython.core.display.HTML object>"
      ]
     },
     "metadata": {},
     "output_type": "display_data"
    },
    {
     "data": {
      "text/html": [
       "<hr style='border: 2px solid #174747;'>"
      ],
      "text/plain": [
       "<IPython.core.display.HTML object>"
      ]
     },
     "metadata": {},
     "output_type": "display_data"
    },
    {
     "data": {
      "text/html": [
       "<h2 style='color:#d35400; text-align:center;'><strong>📊Dataset Summary Statistics</strong></h2>"
      ],
      "text/plain": [
       "<IPython.core.display.HTML object>"
      ]
     },
     "metadata": {},
     "output_type": "display_data"
    },
    {
     "data": {
      "text/html": [
       "<hr style='border: 2px solid #174747;'>"
      ],
      "text/plain": [
       "<IPython.core.display.HTML object>"
      ]
     },
     "metadata": {},
     "output_type": "display_data"
    },
    {
     "data": {
      "text/html": [
       "\n",
       "    <style>\n",
       "        table {\n",
       "            margin: 0 auto;\n",
       "            border-collapse: collapse;\n",
       "            color: #333;\n",
       "        }\n",
       "        th, td {\n",
       "            padding: 8px;\n",
       "            text-align: left;\n",
       "        }\n",
       "        tr:nth-child(even) {background-color: #f2f2f2;}\n",
       "        tr:hover {background-color: #ddd;}\n",
       "    </style>\n",
       "    <table class=\"dataframe\">\n",
       "  <thead>\n",
       "    <tr style=\"text-align: right;\">\n",
       "      <th></th>\n",
       "      <th>ID</th>\n",
       "      <th>Gender</th>\n",
       "      <th>Own_car</th>\n",
       "      <th>Own_property</th>\n",
       "      <th>Work_phone</th>\n",
       "      <th>Phone</th>\n",
       "      <th>Email</th>\n",
       "      <th>Unemployed</th>\n",
       "      <th>Num_children</th>\n",
       "      <th>Num_family</th>\n",
       "      <th>Account_length</th>\n",
       "      <th>Total_income</th>\n",
       "      <th>Age</th>\n",
       "      <th>Years_employed</th>\n",
       "      <th>Target</th>\n",
       "    </tr>\n",
       "  </thead>\n",
       "  <tbody>\n",
       "    <tr>\n",
       "      <th>count</th>\n",
       "      <td>9.709000e+03</td>\n",
       "      <td>9709.000000</td>\n",
       "      <td>9709.000000</td>\n",
       "      <td>9709.000000</td>\n",
       "      <td>9709.000000</td>\n",
       "      <td>9709.000000</td>\n",
       "      <td>9709.000000</td>\n",
       "      <td>9709.000000</td>\n",
       "      <td>9709.000000</td>\n",
       "      <td>9709.000000</td>\n",
       "      <td>9709.000000</td>\n",
       "      <td>9.709000e+03</td>\n",
       "      <td>9709.000000</td>\n",
       "      <td>9709.000000</td>\n",
       "      <td>9709.000000</td>\n",
       "    </tr>\n",
       "    <tr>\n",
       "      <th>mean</th>\n",
       "      <td>5.076105e+06</td>\n",
       "      <td>0.348749</td>\n",
       "      <td>0.367700</td>\n",
       "      <td>0.671542</td>\n",
       "      <td>0.217427</td>\n",
       "      <td>0.287671</td>\n",
       "      <td>0.087548</td>\n",
       "      <td>0.174683</td>\n",
       "      <td>0.422804</td>\n",
       "      <td>2.182614</td>\n",
       "      <td>27.270059</td>\n",
       "      <td>1.812282e+05</td>\n",
       "      <td>43.784093</td>\n",
       "      <td>5.664730</td>\n",
       "      <td>0.132145</td>\n",
       "    </tr>\n",
       "    <tr>\n",
       "      <th>std</th>\n",
       "      <td>4.080270e+04</td>\n",
       "      <td>0.476599</td>\n",
       "      <td>0.482204</td>\n",
       "      <td>0.469677</td>\n",
       "      <td>0.412517</td>\n",
       "      <td>0.452700</td>\n",
       "      <td>0.282650</td>\n",
       "      <td>0.379716</td>\n",
       "      <td>0.767019</td>\n",
       "      <td>0.932918</td>\n",
       "      <td>16.648057</td>\n",
       "      <td>9.927731e+04</td>\n",
       "      <td>11.625768</td>\n",
       "      <td>6.342241</td>\n",
       "      <td>0.338666</td>\n",
       "    </tr>\n",
       "    <tr>\n",
       "      <th>min</th>\n",
       "      <td>5.008804e+06</td>\n",
       "      <td>0.000000</td>\n",
       "      <td>0.000000</td>\n",
       "      <td>0.000000</td>\n",
       "      <td>0.000000</td>\n",
       "      <td>0.000000</td>\n",
       "      <td>0.000000</td>\n",
       "      <td>0.000000</td>\n",
       "      <td>0.000000</td>\n",
       "      <td>1.000000</td>\n",
       "      <td>0.000000</td>\n",
       "      <td>2.700000e+04</td>\n",
       "      <td>20.504186</td>\n",
       "      <td>0.000000</td>\n",
       "      <td>0.000000</td>\n",
       "    </tr>\n",
       "    <tr>\n",
       "      <th>25%</th>\n",
       "      <td>5.036955e+06</td>\n",
       "      <td>0.000000</td>\n",
       "      <td>0.000000</td>\n",
       "      <td>0.000000</td>\n",
       "      <td>0.000000</td>\n",
       "      <td>0.000000</td>\n",
       "      <td>0.000000</td>\n",
       "      <td>0.000000</td>\n",
       "      <td>0.000000</td>\n",
       "      <td>2.000000</td>\n",
       "      <td>13.000000</td>\n",
       "      <td>1.125000e+05</td>\n",
       "      <td>34.059563</td>\n",
       "      <td>0.928150</td>\n",
       "      <td>0.000000</td>\n",
       "    </tr>\n",
       "    <tr>\n",
       "      <th>50%</th>\n",
       "      <td>5.069449e+06</td>\n",
       "      <td>0.000000</td>\n",
       "      <td>0.000000</td>\n",
       "      <td>1.000000</td>\n",
       "      <td>0.000000</td>\n",
       "      <td>0.000000</td>\n",
       "      <td>0.000000</td>\n",
       "      <td>0.000000</td>\n",
       "      <td>0.000000</td>\n",
       "      <td>2.000000</td>\n",
       "      <td>26.000000</td>\n",
       "      <td>1.575000e+05</td>\n",
       "      <td>42.741466</td>\n",
       "      <td>3.761884</td>\n",
       "      <td>0.000000</td>\n",
       "    </tr>\n",
       "    <tr>\n",
       "      <th>75%</th>\n",
       "      <td>5.112986e+06</td>\n",
       "      <td>1.000000</td>\n",
       "      <td>1.000000</td>\n",
       "      <td>1.000000</td>\n",
       "      <td>0.000000</td>\n",
       "      <td>1.000000</td>\n",
       "      <td>0.000000</td>\n",
       "      <td>0.000000</td>\n",
       "      <td>1.000000</td>\n",
       "      <td>3.000000</td>\n",
       "      <td>41.000000</td>\n",
       "      <td>2.250000e+05</td>\n",
       "      <td>53.567151</td>\n",
       "      <td>8.200031</td>\n",
       "      <td>0.000000</td>\n",
       "    </tr>\n",
       "    <tr>\n",
       "      <th>max</th>\n",
       "      <td>5.150479e+06</td>\n",
       "      <td>1.000000</td>\n",
       "      <td>1.000000</td>\n",
       "      <td>1.000000</td>\n",
       "      <td>1.000000</td>\n",
       "      <td>1.000000</td>\n",
       "      <td>1.000000</td>\n",
       "      <td>1.000000</td>\n",
       "      <td>19.000000</td>\n",
       "      <td>20.000000</td>\n",
       "      <td>60.000000</td>\n",
       "      <td>1.575000e+06</td>\n",
       "      <td>68.863837</td>\n",
       "      <td>43.020733</td>\n",
       "      <td>1.000000</td>\n",
       "    </tr>\n",
       "  </tbody>\n",
       "</table>"
      ],
      "text/plain": [
       "<IPython.core.display.HTML object>"
      ]
     },
     "metadata": {},
     "output_type": "display_data"
    },
    {
     "data": {
      "text/html": [
       "<hr style='border: 2px solid #174747;'>"
      ],
      "text/plain": [
       "<IPython.core.display.HTML object>"
      ]
     },
     "metadata": {},
     "output_type": "display_data"
    },
    {
     "data": {
      "text/html": [
       "<h2 style='color:#d35400; text-align:center;'><strong>🔍Dataset Information</strong></h2>"
      ],
      "text/plain": [
       "<IPython.core.display.HTML object>"
      ]
     },
     "metadata": {},
     "output_type": "display_data"
    },
    {
     "data": {
      "text/html": [
       "<hr style='border: 2px solid #174747;'>"
      ],
      "text/plain": [
       "<IPython.core.display.HTML object>"
      ]
     },
     "metadata": {},
     "output_type": "display_data"
    },
    {
     "data": {
      "text/html": [
       "<pre><class 'pandas.core.frame.DataFrame'><br>RangeIndex: 9709 entries, 0 to 9708<br>Data columns (total 20 columns):<br> #   Column           Non-Null Count  Dtype  <br>---  ------           --------------  -----  <br> 0   ID               9709 non-null   int64  <br> 1   Gender           9709 non-null   int64  <br> 2   Own_car          9709 non-null   int64  <br> 3   Own_property     9709 non-null   int64  <br> 4   Work_phone       9709 non-null   int64  <br> 5   Phone            9709 non-null   int64  <br> 6   Email            9709 non-null   int64  <br> 7   Unemployed       9709 non-null   int64  <br> 8   Num_children     9709 non-null   int64  <br> 9   Num_family       9709 non-null   int64  <br> 10  Account_length   9709 non-null   int64  <br> 11  Total_income     9709 non-null   float64<br> 12  Age              9709 non-null   float64<br> 13  Years_employed   9709 non-null   float64<br> 14  Income_type      9709 non-null   object <br> 15  Education_type   9709 non-null   object <br> 16  Family_status    9709 non-null   object <br> 17  Housing_type     9709 non-null   object <br> 18  Occupation_type  9709 non-null   object <br> 19  Target           9709 non-null   int64  <br>dtypes: float64(3), int64(12), object(5)<br>memory usage: 1.5+ MB<br></pre>"
      ],
      "text/plain": [
       "<IPython.core.display.HTML object>"
      ]
     },
     "metadata": {},
     "output_type": "display_data"
    },
    {
     "data": {
      "text/html": [
       "<hr style='border: 2px solid #174747;'>"
      ],
      "text/plain": [
       "<IPython.core.display.HTML object>"
      ]
     },
     "metadata": {},
     "output_type": "display_data"
    },
    {
     "data": {
      "text/html": [
       "<h2 style='color:#d35400; text-align:center;'><strong>📏Dataset Shape</strong></h2>"
      ],
      "text/plain": [
       "<IPython.core.display.HTML object>"
      ]
     },
     "metadata": {},
     "output_type": "display_data"
    },
    {
     "data": {
      "text/html": [
       "<hr style='border: 2px solid #174747;'>"
      ],
      "text/plain": [
       "<IPython.core.display.HTML object>"
      ]
     },
     "metadata": {},
     "output_type": "display_data"
    },
    {
     "data": {
      "text/html": [
       "<p>Rows: 9709, Columns: 20</p>"
      ],
      "text/plain": [
       "<IPython.core.display.HTML object>"
      ]
     },
     "metadata": {},
     "output_type": "display_data"
    },
    {
     "data": {
      "text/html": [
       "<hr style='border: 2px solid #174747;'>"
      ],
      "text/plain": [
       "<IPython.core.display.HTML object>"
      ]
     },
     "metadata": {},
     "output_type": "display_data"
    },
    {
     "data": {
      "text/html": [
       "<h2 style='color:#d35400; text-align:center;'><strong>❓ Missing Values in Dataset</strong></h2>"
      ],
      "text/plain": [
       "<IPython.core.display.HTML object>"
      ]
     },
     "metadata": {},
     "output_type": "display_data"
    },
    {
     "data": {
      "text/html": [
       "<hr style='border: 2px solid #174747;'>"
      ],
      "text/plain": [
       "<IPython.core.display.HTML object>"
      ]
     },
     "metadata": {},
     "output_type": "display_data"
    },
    {
     "data": {
      "text/html": [
       "\n",
       "    <style>\n",
       "        table {\n",
       "            margin: 0 auto;\n",
       "            border-collapse: collapse;\n",
       "            color: #333;\n",
       "        }\n",
       "        th, td {\n",
       "            padding: 8px;\n",
       "            text-align: left;\n",
       "        }\n",
       "        tr:nth-child(even) {background-color: #f2f2f2;}\n",
       "        tr:hover {background-color: #ddd;}\n",
       "    </style>\n",
       "    <table class=\"dataframe\">\n",
       "  <thead>\n",
       "    <tr style=\"text-align: right;\">\n",
       "      <th>Column</th>\n",
       "      <th>Missing Values</th>\n",
       "    </tr>\n",
       "  </thead>\n",
       "  <tbody>\n",
       "    <tr>\n",
       "      <td>ID</td>\n",
       "      <td>0</td>\n",
       "    </tr>\n",
       "    <tr>\n",
       "      <td>Gender</td>\n",
       "      <td>0</td>\n",
       "    </tr>\n",
       "    <tr>\n",
       "      <td>Own_car</td>\n",
       "      <td>0</td>\n",
       "    </tr>\n",
       "    <tr>\n",
       "      <td>Own_property</td>\n",
       "      <td>0</td>\n",
       "    </tr>\n",
       "    <tr>\n",
       "      <td>Work_phone</td>\n",
       "      <td>0</td>\n",
       "    </tr>\n",
       "    <tr>\n",
       "      <td>Phone</td>\n",
       "      <td>0</td>\n",
       "    </tr>\n",
       "    <tr>\n",
       "      <td>Email</td>\n",
       "      <td>0</td>\n",
       "    </tr>\n",
       "    <tr>\n",
       "      <td>Unemployed</td>\n",
       "      <td>0</td>\n",
       "    </tr>\n",
       "    <tr>\n",
       "      <td>Num_children</td>\n",
       "      <td>0</td>\n",
       "    </tr>\n",
       "    <tr>\n",
       "      <td>Num_family</td>\n",
       "      <td>0</td>\n",
       "    </tr>\n",
       "    <tr>\n",
       "      <td>Account_length</td>\n",
       "      <td>0</td>\n",
       "    </tr>\n",
       "    <tr>\n",
       "      <td>Total_income</td>\n",
       "      <td>0</td>\n",
       "    </tr>\n",
       "    <tr>\n",
       "      <td>Age</td>\n",
       "      <td>0</td>\n",
       "    </tr>\n",
       "    <tr>\n",
       "      <td>Years_employed</td>\n",
       "      <td>0</td>\n",
       "    </tr>\n",
       "    <tr>\n",
       "      <td>Income_type</td>\n",
       "      <td>0</td>\n",
       "    </tr>\n",
       "    <tr>\n",
       "      <td>Education_type</td>\n",
       "      <td>0</td>\n",
       "    </tr>\n",
       "    <tr>\n",
       "      <td>Family_status</td>\n",
       "      <td>0</td>\n",
       "    </tr>\n",
       "    <tr>\n",
       "      <td>Housing_type</td>\n",
       "      <td>0</td>\n",
       "    </tr>\n",
       "    <tr>\n",
       "      <td>Occupation_type</td>\n",
       "      <td>0</td>\n",
       "    </tr>\n",
       "    <tr>\n",
       "      <td>Target</td>\n",
       "      <td>0</td>\n",
       "    </tr>\n",
       "  </tbody>\n",
       "</table>"
      ],
      "text/plain": [
       "<IPython.core.display.HTML object>"
      ]
     },
     "metadata": {},
     "output_type": "display_data"
    },
    {
     "data": {
      "text/html": [
       "<hr style='border: 2px solid #174747;'>"
      ],
      "text/plain": [
       "<IPython.core.display.HTML object>"
      ]
     },
     "metadata": {},
     "output_type": "display_data"
    },
    {
     "data": {
      "text/html": [
       "<h2 style='color:#d35400; text-align:center;'><strong>♻️ Duplicate Rows in Dataset</strong></h2>"
      ],
      "text/plain": [
       "<IPython.core.display.HTML object>"
      ]
     },
     "metadata": {},
     "output_type": "display_data"
    },
    {
     "data": {
      "text/html": [
       "<hr style='border: 2px solid #174747;'>"
      ],
      "text/plain": [
       "<IPython.core.display.HTML object>"
      ]
     },
     "metadata": {},
     "output_type": "display_data"
    },
    {
     "data": {
      "text/html": [
       "<p>Number of duplicate rows: 0</p>"
      ],
      "text/plain": [
       "<IPython.core.display.HTML object>"
      ]
     },
     "metadata": {},
     "output_type": "display_data"
    }
   ],
   "source": [
    "import pandas as pd\n",
    "from IPython.display import display, HTML\n",
    "import io\n",
    "\n",
    "# Helper function to generate colored horizontal line\n",
    "def colored_line(color='#ff00ff'):\n",
    "    return f\"<hr style='border: 2px solid {color};'>\"\n",
    "\n",
    "def print_dataset_analysis(df, n_top=5, heading_color='#d35400', line_color='#ff00ff', dash_color='#27ae60'):\n",
    "    # Styling for the DataFrame display\n",
    "    table_style = \"\"\"\n",
    "    <style>\n",
    "        table {\n",
    "            margin: 0 auto;\n",
    "            border-collapse: collapse;\n",
    "            color: #333;\n",
    "        }\n",
    "        th, td {\n",
    "            padding: 8px;\n",
    "            text-align: left;\n",
    "        }\n",
    "        tr:nth-child(even) {background-color: #f2f2f2;}\n",
    "        tr:hover {background-color: #ddd;}\n",
    "    </style>\n",
    "    \"\"\"\n",
    "    \n",
    "    # Printing top values\n",
    "    train_heading = f\"<h2 style='color:{heading_color}; text-align:center;'><strong>📋 Top {n_top} Rows of the Dataset</strong></h2>\"\n",
    "    \n",
    "    display(HTML(f\"<hr style='border: 2px solid {dash_color};'>\"))\n",
    "    display(HTML(train_heading))\n",
    "    display(HTML(f\"<hr style='border: 2px solid {dash_color};'>\"))\n",
    "    display(HTML(table_style + df.head(n_top).to_html(border=0, index=False)))\n",
    "\n",
    "    # Printing bottom values\n",
    "    bottom_heading = f\"<h2 style='color:{heading_color}; text-align:center;'><strong>🔽 Bottom {n_top} Rows of the Dataset</strong></h2>\"\n",
    "    \n",
    "    display(HTML(f\"<hr style='border: 2px solid {dash_color};'>\"))\n",
    "    display(HTML(bottom_heading))\n",
    "    display(HTML(f\"<hr style='border: 2px solid {dash_color};'>\"))\n",
    "    display(HTML(table_style + df.tail(n_top).to_html(border=0, index=False)))\n",
    "\n",
    "    # Printing dataset summary\n",
    "    summary_heading = f\"<h2 style='color:{heading_color}; text-align:center;'><strong>📊Dataset Summary Statistics</strong></h2>\"\n",
    "    display(HTML(f\"<hr style='border: 2px solid {dash_color};'>\"))\n",
    "    display(HTML(summary_heading))\n",
    "    display(HTML(f\"<hr style='border: 2px solid {dash_color};'>\"))\n",
    "    display(HTML(table_style + df.describe().to_html(border=0)))\n",
    "\n",
    "    # Printing dataset information\n",
    "    info_heading = f\"<h2 style='color:{heading_color}; text-align:center;'><strong>🔍Dataset Information</strong></h2>\"\n",
    "    buffer = io.StringIO()\n",
    "    df.info(buf=buffer)\n",
    "    info = buffer.getvalue().replace('\\n', '<br>')\n",
    "    display(HTML(f\"<hr style='border: 2px solid {dash_color};'>\"))\n",
    "    display(HTML(info_heading))\n",
    "    display(HTML(f\"<hr style='border: 2px solid {dash_color};'>\"))\n",
    "    display(HTML(f\"<pre>{info}</pre>\"))\n",
    "\n",
    "    # Printing dataset shape\n",
    "    shape_heading = f\"<h2 style='color:{heading_color}; text-align:center;'><strong>📏Dataset Shape</strong></h2>\"\n",
    "    shape_info = f\"<p>Rows: {df.shape[0]}, Columns: {df.shape[1]}</p>\"\n",
    "    display(HTML(f\"<hr style='border: 2px solid {dash_color};'>\"))\n",
    "    display(HTML(shape_heading))\n",
    "    display(HTML(f\"<hr style='border: 2px solid {dash_color};'>\"))\n",
    "    display(HTML(shape_info))\n",
    "\n",
    "    # Printing missing values\n",
    "    null_heading = f\"<h2 style='color:{heading_color}; text-align:center;'><strong>❓ Missing Values in Dataset</strong></h2>\"\n",
    "    null_values = df.isnull().sum().to_frame().reset_index()\n",
    "    null_values.columns = ['Column', 'Missing Values']\n",
    "    display(HTML(f\"<hr style='border: 2px solid {dash_color};'>\"))\n",
    "    display(HTML(null_heading))\n",
    "    display(HTML(f\"<hr style='border: 2px solid {dash_color};'>\"))\n",
    "    display(HTML(table_style + null_values.to_html(index=False, border=0)))\n",
    "\n",
    "    # Printing duplicate rows\n",
    "    duplicate_heading = f\"<h2 style='color:{heading_color}; text-align:center;'><strong>♻️ Duplicate Rows in Dataset</strong></h2>\"\n",
    "    duplicate_count = df.duplicated().sum()\n",
    "    duplicate_info = f\"<p>Number of duplicate rows: {duplicate_count}</p>\"\n",
    "    display(HTML(f\"<hr style='border: 2px solid {dash_color};'>\"))\n",
    "    display(HTML(duplicate_heading))\n",
    "    display(HTML(f\"<hr style='border: 2px solid {dash_color};'>\"))\n",
    "    display(HTML(duplicate_info))\n",
    "\n",
    "# Load the DataFrame\n",
    "df = pd.read_csv(\"dataset.csv\")\n",
    "\n",
    "# Call the function to display the information with the new color scheme\n",
    "print_dataset_analysis(df, heading_color='#d35400', line_color='#174747', dash_color='#174747')\n"
   ]
  },
  {
   "cell_type": "code",
   "execution_count": 3,
   "id": "05d12052",
   "metadata": {
    "_kg_hide-output": true,
    "execution": {
     "iopub.execute_input": "2024-05-27T21:00:13.464920Z",
     "iopub.status.busy": "2024-05-27T21:00:13.464298Z",
     "iopub.status.idle": "2024-05-27T21:00:47.989750Z",
     "shell.execute_reply": "2024-05-27T21:00:47.987906Z"
    },
    "papermill": {
     "duration": 34.551181,
     "end_time": "2024-05-27T21:00:47.992806",
     "exception": false,
     "start_time": "2024-05-27T21:00:13.441625",
     "status": "completed"
    },
    "tags": []
   },
   "outputs": [
    {
     "name": "stdout",
     "output_type": "stream",
     "text": [
      "Collecting autoviz\n",
      "  Downloading autoviz-0.1.904-py3-none-any.whl.metadata (14 kB)\n",
      "Collecting xlrd (from autoviz)\n",
      "  Downloading xlrd-2.0.1-py2.py3-none-any.whl.metadata (3.4 kB)\n",
      "Requirement already satisfied: wordcloud in /opt/conda/lib/python3.10/site-packages (from autoviz) (1.9.3)\n",
      "Requirement already satisfied: emoji in /opt/conda/lib/python3.10/site-packages (from autoviz) (2.11.0)\n",
      "Collecting pyamg (from autoviz)\n",
      "  Downloading pyamg-5.1.0-cp310-cp310-manylinux_2_17_x86_64.manylinux2014_x86_64.whl.metadata (8.1 kB)\n",
      "Requirement already satisfied: scikit-learn in /opt/conda/lib/python3.10/site-packages (from autoviz) (1.2.2)\n",
      "Requirement already satisfied: statsmodels in /opt/conda/lib/python3.10/site-packages (from autoviz) (0.14.1)\n",
      "Requirement already satisfied: nltk in /opt/conda/lib/python3.10/site-packages (from autoviz) (3.2.4)\n",
      "Requirement already satisfied: textblob in /opt/conda/lib/python3.10/site-packages (from autoviz) (0.18.0.post0)\n",
      "Collecting xgboost<1.7,>=0.82 (from autoviz)\n",
      "  Downloading xgboost-1.6.2-py3-none-manylinux2014_x86_64.whl.metadata (1.8 kB)\n",
      "Requirement already satisfied: fsspec>=0.8.3 in /opt/conda/lib/python3.10/site-packages (from autoviz) (2024.2.0)\n",
      "Requirement already satisfied: typing-extensions>=4.1.1 in /opt/conda/lib/python3.10/site-packages (from autoviz) (4.9.0)\n",
      "Collecting pandas-dq>=1.29 (from autoviz)\n",
      "  Downloading pandas_dq-1.29-py3-none-any.whl.metadata (19 kB)\n",
      "Requirement already satisfied: numpy>=1.24.0 in /opt/conda/lib/python3.10/site-packages (from autoviz) (1.26.4)\n",
      "Collecting hvplot>=0.9.2 (from autoviz)\n",
      "  Downloading hvplot-0.10.0-py3-none-any.whl.metadata (15 kB)\n",
      "Requirement already satisfied: holoviews>=1.16.0 in /opt/conda/lib/python3.10/site-packages (from autoviz) (1.18.3)\n",
      "Requirement already satisfied: panel>=1.4.0 in /opt/conda/lib/python3.10/site-packages (from autoviz) (1.4.1)\n",
      "Requirement already satisfied: pandas>=2.0 in /opt/conda/lib/python3.10/site-packages (from autoviz) (2.2.2)\n",
      "Requirement already satisfied: matplotlib>3.7.4 in /opt/conda/lib/python3.10/site-packages (from autoviz) (3.7.5)\n",
      "Collecting seaborn>0.12.2 (from autoviz)\n",
      "  Downloading seaborn-0.13.2-py3-none-any.whl.metadata (5.4 kB)\n",
      "Requirement already satisfied: param<3.0,>=1.12.0 in /opt/conda/lib/python3.10/site-packages (from holoviews>=1.16.0->autoviz) (2.1.0)\n",
      "Requirement already satisfied: pyviz-comms>=0.7.4 in /opt/conda/lib/python3.10/site-packages (from holoviews>=1.16.0->autoviz) (3.0.2)\n",
      "Requirement already satisfied: colorcet in /opt/conda/lib/python3.10/site-packages (from holoviews>=1.16.0->autoviz) (3.1.0)\n",
      "Requirement already satisfied: packaging in /opt/conda/lib/python3.10/site-packages (from holoviews>=1.16.0->autoviz) (21.3)\n",
      "Requirement already satisfied: bokeh>=1.0.0 in /opt/conda/lib/python3.10/site-packages (from hvplot>=0.9.2->autoviz) (3.4.1)\n",
      "Requirement already satisfied: contourpy>=1.0.1 in /opt/conda/lib/python3.10/site-packages (from matplotlib>3.7.4->autoviz) (1.2.0)\n",
      "Requirement already satisfied: cycler>=0.10 in /opt/conda/lib/python3.10/site-packages (from matplotlib>3.7.4->autoviz) (0.12.1)\n",
      "Requirement already satisfied: fonttools>=4.22.0 in /opt/conda/lib/python3.10/site-packages (from matplotlib>3.7.4->autoviz) (4.47.0)\n",
      "Requirement already satisfied: kiwisolver>=1.0.1 in /opt/conda/lib/python3.10/site-packages (from matplotlib>3.7.4->autoviz) (1.4.5)\n",
      "Requirement already satisfied: pillow>=6.2.0 in /opt/conda/lib/python3.10/site-packages (from matplotlib>3.7.4->autoviz) (9.5.0)\n",
      "Requirement already satisfied: pyparsing>=2.3.1 in /opt/conda/lib/python3.10/site-packages (from matplotlib>3.7.4->autoviz) (3.1.1)\n",
      "Requirement already satisfied: python-dateutil>=2.7 in /opt/conda/lib/python3.10/site-packages (from matplotlib>3.7.4->autoviz) (2.9.0.post0)\n",
      "Requirement already satisfied: pytz>=2020.1 in /opt/conda/lib/python3.10/site-packages (from pandas>=2.0->autoviz) (2023.3.post1)\n",
      "Requirement already satisfied: tzdata>=2022.7 in /opt/conda/lib/python3.10/site-packages (from pandas>=2.0->autoviz) (2023.4)\n",
      "Requirement already satisfied: xyzservices>=2021.09.1 in /opt/conda/lib/python3.10/site-packages (from panel>=1.4.0->autoviz) (2024.4.0)\n",
      "Requirement already satisfied: markdown in /opt/conda/lib/python3.10/site-packages (from panel>=1.4.0->autoviz) (3.5.2)\n",
      "Requirement already satisfied: markdown-it-py in /opt/conda/lib/python3.10/site-packages (from panel>=1.4.0->autoviz) (3.0.0)\n",
      "Requirement already satisfied: linkify-it-py in /opt/conda/lib/python3.10/site-packages (from panel>=1.4.0->autoviz) (2.0.3)\n",
      "Requirement already satisfied: mdit-py-plugins in /opt/conda/lib/python3.10/site-packages (from panel>=1.4.0->autoviz) (0.4.0)\n",
      "Requirement already satisfied: requests in /opt/conda/lib/python3.10/site-packages (from panel>=1.4.0->autoviz) (2.31.0)\n",
      "Requirement already satisfied: tqdm>=4.48.0 in /opt/conda/lib/python3.10/site-packages (from panel>=1.4.0->autoviz) (4.66.1)\n",
      "Requirement already satisfied: bleach in /opt/conda/lib/python3.10/site-packages (from panel>=1.4.0->autoviz) (6.1.0)\n",
      "Requirement already satisfied: scipy>=1.3.2 in /opt/conda/lib/python3.10/site-packages (from scikit-learn->autoviz) (1.11.4)\n",
      "Requirement already satisfied: joblib>=1.1.1 in /opt/conda/lib/python3.10/site-packages (from scikit-learn->autoviz) (1.4.0)\n",
      "Requirement already satisfied: threadpoolctl>=2.0.0 in /opt/conda/lib/python3.10/site-packages (from scikit-learn->autoviz) (3.2.0)\n",
      "Requirement already satisfied: six in /opt/conda/lib/python3.10/site-packages (from nltk->autoviz) (1.16.0)\n",
      "Requirement already satisfied: patsy>=0.5.4 in /opt/conda/lib/python3.10/site-packages (from statsmodels->autoviz) (0.5.6)\n",
      "Collecting nltk (from autoviz)\n",
      "  Downloading nltk-3.8.1-py3-none-any.whl.metadata (2.8 kB)\n",
      "Requirement already satisfied: click in /opt/conda/lib/python3.10/site-packages (from nltk->autoviz) (8.1.7)\n",
      "Requirement already satisfied: regex>=2021.8.3 in /opt/conda/lib/python3.10/site-packages (from nltk->autoviz) (2023.12.25)\n",
      "Requirement already satisfied: Jinja2>=2.9 in /opt/conda/lib/python3.10/site-packages (from bokeh>=1.0.0->hvplot>=0.9.2->autoviz) (3.1.2)\n",
      "Requirement already satisfied: PyYAML>=3.10 in /opt/conda/lib/python3.10/site-packages (from bokeh>=1.0.0->hvplot>=0.9.2->autoviz) (6.0.1)\n",
      "Requirement already satisfied: tornado>=6.2 in /opt/conda/lib/python3.10/site-packages (from bokeh>=1.0.0->hvplot>=0.9.2->autoviz) (6.3.3)\n",
      "Requirement already satisfied: webencodings in /opt/conda/lib/python3.10/site-packages (from bleach->panel>=1.4.0->autoviz) (0.5.1)\n",
      "Requirement already satisfied: uc-micro-py in /opt/conda/lib/python3.10/site-packages (from linkify-it-py->panel>=1.4.0->autoviz) (1.0.3)\n",
      "Requirement already satisfied: mdurl~=0.1 in /opt/conda/lib/python3.10/site-packages (from markdown-it-py->panel>=1.4.0->autoviz) (0.1.2)\n",
      "Requirement already satisfied: charset-normalizer<4,>=2 in /opt/conda/lib/python3.10/site-packages (from requests->panel>=1.4.0->autoviz) (3.3.2)\n",
      "Requirement already satisfied: idna<4,>=2.5 in /opt/conda/lib/python3.10/site-packages (from requests->panel>=1.4.0->autoviz) (3.6)\n",
      "Requirement already satisfied: urllib3<3,>=1.21.1 in /opt/conda/lib/python3.10/site-packages (from requests->panel>=1.4.0->autoviz) (1.26.18)\n",
      "Requirement already satisfied: certifi>=2017.4.17 in /opt/conda/lib/python3.10/site-packages (from requests->panel>=1.4.0->autoviz) (2024.2.2)\n",
      "Requirement already satisfied: MarkupSafe>=2.0 in /opt/conda/lib/python3.10/site-packages (from Jinja2>=2.9->bokeh>=1.0.0->hvplot>=0.9.2->autoviz) (2.1.3)\n",
      "Downloading autoviz-0.1.904-py3-none-any.whl (67 kB)\n",
      "\u001b[2K   \u001b[90m━━━━━━━━━━━━━━━━━━━━━━━━━━━━━━━━━━━━━━━━\u001b[0m \u001b[32m67.5/67.5 kB\u001b[0m \u001b[31m2.7 MB/s\u001b[0m eta \u001b[36m0:00:00\u001b[0m\n",
      "\u001b[?25hDownloading hvplot-0.10.0-py3-none-any.whl (155 kB)\n",
      "\u001b[2K   \u001b[90m━━━━━━━━━━━━━━━━━━━━━━━━━━━━━━━━━━━━━━━━\u001b[0m \u001b[32m155.4/155.4 kB\u001b[0m \u001b[31m6.0 MB/s\u001b[0m eta \u001b[36m0:00:00\u001b[0m\n",
      "\u001b[?25hDownloading pandas_dq-1.29-py3-none-any.whl (29 kB)\n",
      "Downloading seaborn-0.13.2-py3-none-any.whl (294 kB)\n",
      "\u001b[2K   \u001b[90m━━━━━━━━━━━━━━━━━━━━━━━━━━━━━━━━━━━━━━━━\u001b[0m \u001b[32m294.9/294.9 kB\u001b[0m \u001b[31m13.1 MB/s\u001b[0m eta \u001b[36m0:00:00\u001b[0m\n",
      "\u001b[?25hDownloading xgboost-1.6.2-py3-none-manylinux2014_x86_64.whl (255.9 MB)\n",
      "\u001b[2K   \u001b[90m━━━━━━━━━━━━━━━━━━━━━━━━━━━━━━━━━━━━━━━━\u001b[0m \u001b[32m255.9/255.9 MB\u001b[0m \u001b[31m5.5 MB/s\u001b[0m eta \u001b[36m0:00:00\u001b[0m\n",
      "\u001b[?25hDownloading pyamg-5.1.0-cp310-cp310-manylinux_2_17_x86_64.manylinux2014_x86_64.whl (1.9 MB)\n",
      "\u001b[2K   \u001b[90m━━━━━━━━━━━━━━━━━━━━━━━━━━━━━━━━━━━━━━━━\u001b[0m \u001b[32m1.9/1.9 MB\u001b[0m \u001b[31m48.9 MB/s\u001b[0m eta \u001b[36m0:00:00\u001b[0m\n",
      "\u001b[?25hDownloading nltk-3.8.1-py3-none-any.whl (1.5 MB)\n",
      "\u001b[2K   \u001b[90m━━━━━━━━━━━━━━━━━━━━━━━━━━━━━━━━━━━━━━━━\u001b[0m \u001b[32m1.5/1.5 MB\u001b[0m \u001b[31m40.7 MB/s\u001b[0m eta \u001b[36m0:00:00\u001b[0m\n",
      "\u001b[?25hDownloading xlrd-2.0.1-py2.py3-none-any.whl (96 kB)\n",
      "\u001b[2K   \u001b[90m━━━━━━━━━━━━━━━━━━━━━━━━━━━━━━━━━━━━━━━━\u001b[0m \u001b[32m96.5/96.5 kB\u001b[0m \u001b[31m4.6 MB/s\u001b[0m eta \u001b[36m0:00:00\u001b[0m\n",
      "\u001b[?25hInstalling collected packages: xlrd, nltk, xgboost, pyamg, seaborn, pandas-dq, hvplot, autoviz\n",
      "  Attempting uninstall: nltk\n",
      "    Found existing installation: nltk 3.2.4\n",
      "    Uninstalling nltk-3.2.4:\n",
      "      Successfully uninstalled nltk-3.2.4\n",
      "  Attempting uninstall: xgboost\n",
      "    Found existing installation: xgboost 2.0.3\n",
      "    Uninstalling xgboost-2.0.3:\n",
      "      Successfully uninstalled xgboost-2.0.3\n",
      "  Attempting uninstall: seaborn\n",
      "    Found existing installation: seaborn 0.12.2\n",
      "    Uninstalling seaborn-0.12.2:\n",
      "      Successfully uninstalled seaborn-0.12.2\n",
      "\u001b[31mERROR: pip's dependency resolver does not currently take into account all the packages that are installed. This behaviour is the source of the following dependency conflicts.\n",
      "preprocessing 0.1.13 requires nltk==3.2.4, but you have nltk 3.8.1 which is incompatible.\n",
      "ydata-profiling 4.6.4 requires numpy<1.26,>=1.16.0, but you have numpy 1.26.4 which is incompatible.\n",
      "ydata-profiling 4.6.4 requires seaborn<0.13,>=0.10.1, but you have seaborn 0.13.2 which is incompatible.\u001b[0m\u001b[31m\n",
      "\u001b[0mSuccessfully installed autoviz-0.1.904 hvplot-0.10.0 nltk-3.8.1 pandas-dq-1.29 pyamg-5.1.0 seaborn-0.13.2 xgboost-1.6.2 xlrd-2.0.1\n"
     ]
    }
   ],
   "source": [
    "!pip install autoviz"
   ]
  }
 ],
 "metadata": {
  "kaggle": {
   "accelerator": "none",
   "dataSources": [
    {
     "datasetId": 5035256,
     "sourceId": 8449565,
     "sourceType": "datasetVersion"
    }
   ],
   "dockerImageVersionId": 30698,
   "isGpuEnabled": false,
   "isInternetEnabled": true,
   "language": "python",
   "sourceType": "notebook"
  },
  "kernelspec": {
   "display_name": "Python 3 (ipykernel)",
   "language": "python",
   "name": "python3"
  },
  "language_info": {
   "codemirror_mode": {
    "name": "ipython",
    "version": 3
   },
   "file_extension": ".py",
   "mimetype": "text/x-python",
   "name": "python",
   "nbconvert_exporter": "python",
   "pygments_lexer": "ipython3",
   "version": "3.11.5"
  },
  "papermill": {
   "default_parameters": {},
   "duration": 993.806676,
   "end_time": "2024-05-27T21:16:24.586257",
   "environment_variables": {},
   "exception": null,
   "input_path": "__notebook__.ipynb",
   "output_path": "__notebook__.ipynb",
   "parameters": {},
   "start_time": "2024-05-27T20:59:50.779581",
   "version": "2.5.0"
  }
 },
 "nbformat": 4,
 "nbformat_minor": 5
}
